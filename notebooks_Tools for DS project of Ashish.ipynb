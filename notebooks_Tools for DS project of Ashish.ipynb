{
  "metadata": {
    "language_info": {
      "codemirror_mode": {
        "name": "python",
        "version": 3
      },
      "file_extension": ".py",
      "mimetype": "text/x-python",
      "name": "python",
      "nbconvert_exporter": "python",
      "pygments_lexer": "ipython3",
      "version": "3.8"
    },
    "kernelspec": {
      "name": "python",
      "display_name": "Python (Pyodide)",
      "language": "python"
    }
  },
  "nbformat_minor": 4,
  "nbformat": 4,
  "cells": [
    {
      "cell_type": "markdown",
      "source": "<h1>My Jupyter Notebook on IBM Watson Studio</h1>",
      "metadata": {}
    },
    {
      "cell_type": "markdown",
      "source": "**Ashish Ranjan**\n\nI am a student of Data Science and want to be a data scientist in future",
      "metadata": {}
    },
    {
      "cell_type": "markdown",
      "source": "*I am interested in data science because I have a passion for using data to draw meaningful conclusions about a company's growth. I enjoy adapting to new programming languages and expanding my collection of tools for analyzing data.*",
      "metadata": {}
    },
    {
      "cell_type": "markdown",
      "source": "<h3>print hello</h3>",
      "metadata": {}
    },
    {
      "cell_type": "code",
      "source": "print(\"hello\")",
      "metadata": {
        "trusted": true
      },
      "execution_count": 2,
      "outputs": [
        {
          "name": "stdout",
          "text": "hello\n",
          "output_type": "stream"
        }
      ]
    },
    {
      "cell_type": "markdown",
      "source": "\n \n\n+ Heading may be anything\n+ Sub-lists:\n    * hey whats up\n    + good how are you\n    -fine too thanks\n+ Great!\n\nOrdered\n\n1. one\n2. two\n3. three\n\n\n1. four\n1. five\n    \n    Facts about the world \n    \n    \n    https://www.travelsafe-abroad.com/200-world-facts/\n    \n    https://www.travelsafe-abroad.com/french-polynesia/\n    \n    [It snows in sahara](https://thetravelintern.com/wp-content/uploads/2020/06/sahara-with-snow-facts-about-the-world.jpg)\n    \n    [lightning](https://cdn.travelsafe-abroad.com/wp-content/uploads/lightning-300x224.jpg)",
      "metadata": {}
    },
    {
      "cell_type": "code",
      "source": "",
      "metadata": {},
      "execution_count": null,
      "outputs": []
    }
  ]
}